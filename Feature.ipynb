{
 "cells": [
  {
   "cell_type": "code",
   "execution_count": 1,
   "metadata": {},
   "outputs": [],
   "source": [
    "import pandas as pd\n",
    "import numpy as np"
   ]
  },
  {
   "cell_type": "code",
   "execution_count": 2,
   "metadata": {},
   "outputs": [
    {
     "name": "stderr",
     "output_type": "stream",
     "text": [
      "/Users/bolong/anaconda3/lib/python3.6/site-packages/IPython/core/interactiveshell.py:2785: DtypeWarning: Columns (7) have mixed types. Specify dtype option on import or set low_memory=False.\n",
      "  interactivity=interactivity, compiler=compiler, result=result)\n"
     ]
    }
   ],
   "source": [
    "train = pd.read_csv(\"data/train.csv\")\n",
    "store = pd.read_csv(\"data/store.csv\")"
   ]
  },
  {
   "cell_type": "code",
   "execution_count": 3,
   "metadata": {},
   "outputs": [
    {
     "name": "stdout",
     "output_type": "stream",
     "text": [
      "<class 'pandas.core.frame.DataFrame'>\n",
      "Int64Index: 1017209 entries, 0 to 1017208\n",
      "Data columns (total 18 columns):\n",
      "Store                        1017209 non-null int64\n",
      "DayOfWeek                    1017209 non-null int64\n",
      "Date                         1017209 non-null object\n",
      "Sales                        1017209 non-null int64\n",
      "Customers                    1017209 non-null int64\n",
      "Open                         1017209 non-null int64\n",
      "Promo                        1017209 non-null int64\n",
      "StateHoliday                 1017209 non-null object\n",
      "SchoolHoliday                1017209 non-null int64\n",
      "StoreType                    1017209 non-null object\n",
      "Assortment                   1017209 non-null object\n",
      "CompetitionDistance          1014567 non-null float64\n",
      "CompetitionOpenSinceMonth    693861 non-null float64\n",
      "CompetitionOpenSinceYear     693861 non-null float64\n",
      "Promo2                       1017209 non-null int64\n",
      "Promo2SinceWeek              509178 non-null float64\n",
      "Promo2SinceYear              509178 non-null float64\n",
      "PromoInterval                509178 non-null object\n",
      "dtypes: float64(5), int64(8), object(5)\n",
      "memory usage: 147.5+ MB\n"
     ]
    }
   ],
   "source": [
    "df = pd.merge(train, store, on='Store')\n",
    "df.info()"
   ]
  },
  {
   "cell_type": "code",
   "execution_count": 4,
   "metadata": {},
   "outputs": [],
   "source": [
    "df['Distance'] = df['CompetitionDistance'].fillna(100000)\n",
    "\n",
    "df['Month'] = df['Date'].map(lambda x: int(x[5:7]))\n",
    "\n",
    "df['CompetitionOpenMonths'] = ((df['Date'].map(lambda x: int(x[:4])) \\\n",
    "                               - df['CompetitionOpenSinceYear']) * 12 \\\n",
    "                                + df['Month'] - df['CompetitionOpenSinceMonth']).fillna(-100)\n",
    "\n",
    "df['Mon'] = (df['DayOfWeek'] == 1).astype(float)\n",
    "df['Weekday'] = ((df['DayOfWeek'] > 1) & (df['DayOfWeek'] < 6)).astype(float)\n",
    "df['Sat'] = (df['DayOfWeek'] == 6).astype(float)\n",
    "df['Sun'] = (df['DayOfWeek'] == 7).astype(float)\n",
    "\n",
    "df['OpenHoliday'] = np.where((df['Open'] == 1)&((df['SchoolHoliday'] == 1)|\\\n",
    "                            (df['StateHoliday']=='a')|(df['StateHoliday']=='b')|\\\n",
    "                            (df['StateHoliday']=='c')),\\\n",
    "                             2,1)\n",
    "df.loc[df['Open']==0,'OpenHoliday'] = 0\n",
    "\n",
    "df['isPromo2'] = (((df['PromoInterval'] == 'Jan,Apr,Jul,Oct') & \\\n",
    "                  ((df['Month'] == 1) | (df['Month'] == 4) | \\\n",
    "                   (df['Month'] == 7) | (df['Month'] == 10))) | \\\n",
    "                ((df['PromoInterval'] == 'Feb,May,Aug,Nov') & \\\n",
    "                  ((df['Month'] == 2) | (df['Month'] == 5) | \\\n",
    "                   (df['Month'] == 8) | (df['Month'] == 11))) | \\\n",
    "                ((df['PromoInterval'] == 'Mar,Jun,Sept,Dec') & \\\n",
    "                  ((df['Month'] == 3) | (df['Month'] == 6) | \\\n",
    "                   (df['Month'] == 9) | (df['Month'] == 12)))).astype(float)"
   ]
  },
  {
   "cell_type": "code",
   "execution_count": 5,
   "metadata": {},
   "outputs": [],
   "source": [
    "df.drop(columns=['Store','Date','Customers','Open','StateHoliday','SchoolHoliday',\\\n",
    "                 'CompetitionDistance','CompetitionOpenSinceMonth','CompetitionOpenSinceYear',\\\n",
    "                 'Promo2','Promo2SinceWeek','Promo2SinceYear','PromoInterval',\\\n",
    "                 'DayOfWeek'], inplace=True)"
   ]
  },
  {
   "cell_type": "code",
   "execution_count": 6,
   "metadata": {},
   "outputs": [
    {
     "name": "stdout",
     "output_type": "stream",
     "text": [
      "<class 'pandas.core.frame.DataFrame'>\n",
      "Int64Index: 1017209 entries, 0 to 1017208\n",
      "Data columns (total 13 columns):\n",
      "Sales                    1017209 non-null int64\n",
      "Promo                    1017209 non-null int64\n",
      "StoreType                1017209 non-null object\n",
      "Assortment               1017209 non-null object\n",
      "Distance                 1017209 non-null float64\n",
      "Month                    1017209 non-null int64\n",
      "CompetitionOpenMonths    1017209 non-null float64\n",
      "Mon                      1017209 non-null float64\n",
      "Weekday                  1017209 non-null float64\n",
      "Sat                      1017209 non-null float64\n",
      "Sun                      1017209 non-null float64\n",
      "OpenHoliday              1017209 non-null int64\n",
      "isPromo2                 1017209 non-null float64\n",
      "dtypes: float64(7), int64(4), object(2)\n",
      "memory usage: 108.6+ MB\n"
     ]
    }
   ],
   "source": [
    "df.info()"
   ]
  },
  {
   "cell_type": "code",
   "execution_count": 7,
   "metadata": {},
   "outputs": [
    {
     "data": {
      "text/html": [
       "<div>\n",
       "<style scoped>\n",
       "    .dataframe tbody tr th:only-of-type {\n",
       "        vertical-align: middle;\n",
       "    }\n",
       "\n",
       "    .dataframe tbody tr th {\n",
       "        vertical-align: top;\n",
       "    }\n",
       "\n",
       "    .dataframe thead th {\n",
       "        text-align: right;\n",
       "    }\n",
       "</style>\n",
       "<table border=\"1\" class=\"dataframe\">\n",
       "  <thead>\n",
       "    <tr style=\"text-align: right;\">\n",
       "      <th></th>\n",
       "      <th>Sales</th>\n",
       "      <th>Promo</th>\n",
       "      <th>StoreType</th>\n",
       "      <th>Assortment</th>\n",
       "      <th>Distance</th>\n",
       "      <th>Month</th>\n",
       "      <th>CompetitionOpenMonths</th>\n",
       "      <th>Mon</th>\n",
       "      <th>Weekday</th>\n",
       "      <th>Sat</th>\n",
       "      <th>Sun</th>\n",
       "      <th>OpenHoliday</th>\n",
       "      <th>isPromo2</th>\n",
       "    </tr>\n",
       "  </thead>\n",
       "  <tbody>\n",
       "    <tr>\n",
       "      <th>0</th>\n",
       "      <td>5263</td>\n",
       "      <td>1</td>\n",
       "      <td>c</td>\n",
       "      <td>a</td>\n",
       "      <td>1270.0</td>\n",
       "      <td>7</td>\n",
       "      <td>82.0</td>\n",
       "      <td>0.0</td>\n",
       "      <td>1.0</td>\n",
       "      <td>0.0</td>\n",
       "      <td>0.0</td>\n",
       "      <td>2</td>\n",
       "      <td>0.0</td>\n",
       "    </tr>\n",
       "    <tr>\n",
       "      <th>1</th>\n",
       "      <td>5020</td>\n",
       "      <td>1</td>\n",
       "      <td>c</td>\n",
       "      <td>a</td>\n",
       "      <td>1270.0</td>\n",
       "      <td>7</td>\n",
       "      <td>82.0</td>\n",
       "      <td>0.0</td>\n",
       "      <td>1.0</td>\n",
       "      <td>0.0</td>\n",
       "      <td>0.0</td>\n",
       "      <td>2</td>\n",
       "      <td>0.0</td>\n",
       "    </tr>\n",
       "    <tr>\n",
       "      <th>2</th>\n",
       "      <td>4782</td>\n",
       "      <td>1</td>\n",
       "      <td>c</td>\n",
       "      <td>a</td>\n",
       "      <td>1270.0</td>\n",
       "      <td>7</td>\n",
       "      <td>82.0</td>\n",
       "      <td>0.0</td>\n",
       "      <td>1.0</td>\n",
       "      <td>0.0</td>\n",
       "      <td>0.0</td>\n",
       "      <td>2</td>\n",
       "      <td>0.0</td>\n",
       "    </tr>\n",
       "    <tr>\n",
       "      <th>3</th>\n",
       "      <td>5011</td>\n",
       "      <td>1</td>\n",
       "      <td>c</td>\n",
       "      <td>a</td>\n",
       "      <td>1270.0</td>\n",
       "      <td>7</td>\n",
       "      <td>82.0</td>\n",
       "      <td>0.0</td>\n",
       "      <td>1.0</td>\n",
       "      <td>0.0</td>\n",
       "      <td>0.0</td>\n",
       "      <td>2</td>\n",
       "      <td>0.0</td>\n",
       "    </tr>\n",
       "    <tr>\n",
       "      <th>4</th>\n",
       "      <td>6102</td>\n",
       "      <td>1</td>\n",
       "      <td>c</td>\n",
       "      <td>a</td>\n",
       "      <td>1270.0</td>\n",
       "      <td>7</td>\n",
       "      <td>82.0</td>\n",
       "      <td>1.0</td>\n",
       "      <td>0.0</td>\n",
       "      <td>0.0</td>\n",
       "      <td>0.0</td>\n",
       "      <td>2</td>\n",
       "      <td>0.0</td>\n",
       "    </tr>\n",
       "  </tbody>\n",
       "</table>\n",
       "</div>"
      ],
      "text/plain": [
       "   Sales  Promo StoreType Assortment  Distance  Month  CompetitionOpenMonths  \\\n",
       "0   5263      1         c          a    1270.0      7                   82.0   \n",
       "1   5020      1         c          a    1270.0      7                   82.0   \n",
       "2   4782      1         c          a    1270.0      7                   82.0   \n",
       "3   5011      1         c          a    1270.0      7                   82.0   \n",
       "4   6102      1         c          a    1270.0      7                   82.0   \n",
       "\n",
       "   Mon  Weekday  Sat  Sun  OpenHoliday  isPromo2  \n",
       "0  0.0      1.0  0.0  0.0            2       0.0  \n",
       "1  0.0      1.0  0.0  0.0            2       0.0  \n",
       "2  0.0      1.0  0.0  0.0            2       0.0  \n",
       "3  0.0      1.0  0.0  0.0            2       0.0  \n",
       "4  1.0      0.0  0.0  0.0            2       0.0  "
      ]
     },
     "execution_count": 7,
     "metadata": {},
     "output_type": "execute_result"
    }
   ],
   "source": [
    "df.head()"
   ]
  },
  {
   "cell_type": "code",
   "execution_count": null,
   "metadata": {},
   "outputs": [],
   "source": []
  }
 ],
 "metadata": {
  "kernelspec": {
   "display_name": "Python 3",
   "language": "python",
   "name": "python3"
  },
  "language_info": {
   "codemirror_mode": {
    "name": "ipython",
    "version": 3
   },
   "file_extension": ".py",
   "mimetype": "text/x-python",
   "name": "python",
   "nbconvert_exporter": "python",
   "pygments_lexer": "ipython3",
   "version": "3.6.8"
  }
 },
 "nbformat": 4,
 "nbformat_minor": 2
}
